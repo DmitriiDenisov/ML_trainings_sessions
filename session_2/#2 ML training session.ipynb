{
 "cells": [
  {
   "cell_type": "markdown",
   "metadata": {},
   "source": [
    "<a href=\"https://colab.research.google.com/github/DmitriiDenisov/ML_trainings_sessions/blob/master/%232%20ML%20training%20session.ipynb\" target=\"_parent\"><img src=\"https://colab.research.google.com/assets/colab-badge.svg\" alt=\"Open In Colab\"/></a>"
   ]
  },
  {
   "cell_type": "code",
   "execution_count": 1,
   "metadata": {},
   "outputs": [
    {
     "name": "stdout",
     "output_type": "stream",
     "text": [
      "Hello world!\n"
     ]
    }
   ],
   "source": [
    "print(\"Hello world!\")"
   ]
  },
  {
   "cell_type": "code",
   "execution_count": 2,
   "metadata": {},
   "outputs": [
    {
     "name": "stdout",
     "output_type": "stream",
     "text": [
      "7\n",
      "15\n",
      "9\n"
     ]
    }
   ],
   "source": [
    "print(3 + 4)\n",
    "print(3 * 5)\n",
    "print(3 ** 2)"
   ]
  },
  {
   "cell_type": "code",
   "execution_count": 3,
   "metadata": {},
   "outputs": [
    {
     "name": "stdout",
     "output_type": "stream",
     "text": [
      "Привет, Dmitry\n"
     ]
    }
   ],
   "source": [
    "name = 'Dmitry'\n",
    "print(\"Привет,\", name)"
   ]
  },
  {
   "cell_type": "markdown",
   "metadata": {},
   "source": [
    "### Syntax:"
   ]
  },
  {
   "cell_type": "markdown",
   "metadata": {},
   "source": [
    "<img src=\"http://screeneggs.com/wp-content/uploads/2019/04/ti385rhtgns21.jpg\" style=\"height:500px\">`"
   ]
  },
  {
   "cell_type": "code",
   "execution_count": null,
   "metadata": {},
   "outputs": [],
   "source": [
    "Basic instruction:\n",
    "    Nested instruction block"
   ]
  },
  {
   "cell_type": "code",
   "execution_count": 186,
   "metadata": {},
   "outputs": [
    {
     "ename": "IndentationError",
     "evalue": "expected an indented block (<ipython-input-186-cede166e5f23>, line 2)",
     "output_type": "error",
     "traceback": [
      "\u001b[0;36m  File \u001b[0;32m\"<ipython-input-186-cede166e5f23>\"\u001b[0;36m, line \u001b[0;32m2\u001b[0m\n\u001b[0;31m    print('OK')\u001b[0m\n\u001b[0m        ^\u001b[0m\n\u001b[0;31mIndentationError\u001b[0m\u001b[0;31m:\u001b[0m expected an indented block\n"
     ]
    }
   ],
   "source": [
    "# Error:\n",
    "if 1 > 0:\n",
    "print('OK')"
   ]
  },
  {
   "cell_type": "code",
   "execution_count": 185,
   "metadata": {},
   "outputs": [
    {
     "ename": "IndentationError",
     "evalue": "unindent does not match any outer indentation level (<tokenize>, line 4)",
     "output_type": "error",
     "traceback": [
      "\u001b[0;36m  File \u001b[0;32m\"<tokenize>\"\u001b[0;36m, line \u001b[0;32m4\u001b[0m\n\u001b[0;31m    print('Ok2')\u001b[0m\n\u001b[0m    ^\u001b[0m\n\u001b[0;31mIndentationError\u001b[0m\u001b[0;31m:\u001b[0m unindent does not match any outer indentation level\n"
     ]
    }
   ],
   "source": [
    "# Error:\n",
    "if 1 > 0:\n",
    "    print('OK')\n",
    "   print('Ok2')"
   ]
  },
  {
   "cell_type": "code",
   "execution_count": 193,
   "metadata": {},
   "outputs": [
    {
     "ename": "IndentationError",
     "evalue": "unexpected indent (<ipython-input-193-e2a7110cf1fc>, line 4)",
     "output_type": "error",
     "traceback": [
      "\u001b[0;36m  File \u001b[0;32m\"<ipython-input-193-e2a7110cf1fc>\"\u001b[0;36m, line \u001b[0;32m4\u001b[0m\n\u001b[0;31m    print(\"Make two great again!\")\u001b[0m\n\u001b[0m    ^\u001b[0m\n\u001b[0;31mIndentationError\u001b[0m\u001b[0;31m:\u001b[0m unexpected indent\n"
     ]
    }
   ],
   "source": [
    "# Error\n",
    "if 5 > 2:\n",
    "  print(\"Five is greater than two!\")\n",
    "      print(\"Make two great again!\")"
   ]
  },
  {
   "cell_type": "markdown",
   "metadata": {},
   "source": [
    "### Types of variables"
   ]
  },
  {
   "cell_type": "code",
   "execution_count": 20,
   "metadata": {},
   "outputs": [],
   "source": [
    "name = 'Deloitte' # string\n",
    "floor = 6 # Dynamical typisation. However in java int a = 2;\n",
    "years = 5.6 # float\n",
    "list_of_ages = [28, 27, 32, 24, 31] # List\n",
    "list_of_ages_tuple = (28, 27, 32, 24, 31) # tuple, immutable\n",
    "number_employes = {'Moscow': 1000, 'Dubai': 800, 'Abu-Dabi': 200, 'London': 1000} # dictionary"
   ]
  },
  {
   "cell_type": "markdown",
   "metadata": {},
   "source": [
    "### Integers and floats"
   ]
  },
  {
   "cell_type": "code",
   "execution_count": 24,
   "metadata": {},
   "outputs": [
    {
     "name": "stdout",
     "output_type": "stream",
     "text": [
      "5\n",
      "-1\n",
      "15\n",
      "125\n",
      "1.6666666666666667\n",
      "1\n",
      "2\n"
     ]
    }
   ],
   "source": [
    "# Integers:\n",
    "a = 2\n",
    "b = 3\n",
    "print(a + b)\n",
    "print(a - b)\n",
    "a = a + b\n",
    "print(a * b)\n",
    "print(a ** b)\n",
    "print(a / b)\n",
    "print(a // b)\n",
    "print(a % b)"
   ]
  },
  {
   "cell_type": "markdown",
   "metadata": {},
   "source": [
    "### What if we want to use some more complicated functions?"
   ]
  },
  {
   "cell_type": "code",
   "execution_count": 27,
   "metadata": {},
   "outputs": [],
   "source": [
    "import math"
   ]
  },
  {
   "cell_type": "code",
   "execution_count": 37,
   "metadata": {},
   "outputs": [
    {
     "name": "stdout",
     "output_type": "stream",
     "text": [
      "5\n",
      "3.0\n"
     ]
    }
   ],
   "source": [
    "a = math.ceil(4.1)\n",
    "b = math.sqrt(9)\n",
    "print(a)\n",
    "print(b)"
   ]
  },
  {
   "cell_type": "code",
   "execution_count": 83,
   "metadata": {},
   "outputs": [
    {
     "name": "stdout",
     "output_type": "stream",
     "text": [
      "-0.9999987317275395\n",
      "0.0015926529164868282\n"
     ]
    }
   ],
   "source": [
    "print(math.cos(3.14))\n",
    "print(math.sin(3.14))"
   ]
  },
  {
   "cell_type": "code",
   "execution_count": 39,
   "metadata": {},
   "outputs": [],
   "source": [
    "# Floats:\n",
    "# Same as for integers: +, -, /, *, ** ..."
   ]
  },
  {
   "cell_type": "code",
   "execution_count": 195,
   "metadata": {},
   "outputs": [
    {
     "data": {
      "text/plain": [
       "0.30000000000000004"
      ]
     },
     "execution_count": 195,
     "metadata": {},
     "output_type": "execute_result"
    }
   ],
   "source": [
    "# What will be printed out?\n",
    "0.1+0.2"
   ]
  },
  {
   "cell_type": "markdown",
   "metadata": {},
   "source": [
    "<img src=\"https://i.kym-cdn.com/photos/images/newsfeed/001/070/750/612.jpg\" style=\"height:500px\">"
   ]
  },
  {
   "cell_type": "markdown",
   "metadata": {},
   "source": [
    "More info:\n",
    "https://www.quora.com/Why-is-0-1+0-2-not-equal-to-0-3-in-most-programming-languages"
   ]
  },
  {
   "cell_type": "markdown",
   "metadata": {},
   "source": [
    "#### String:"
   ]
  },
  {
   "cell_type": "code",
   "execution_count": 40,
   "metadata": {},
   "outputs": [
    {
     "name": "stdout",
     "output_type": "stream",
     "text": [
      "spameggs\n"
     ]
    }
   ],
   "source": [
    "S1 = 'spam'\n",
    "S2 = 'eggs'\n",
    "print(S1 + S2)"
   ]
  },
  {
   "cell_type": "code",
   "execution_count": 41,
   "metadata": {},
   "outputs": [
    {
     "name": "stdout",
     "output_type": "stream",
     "text": [
      "spamspamspam\n"
     ]
    }
   ],
   "source": [
    "print('spam' * 3)"
   ]
  },
  {
   "cell_type": "code",
   "execution_count": 46,
   "metadata": {},
   "outputs": [
    {
     "data": {
      "text/plain": [
       "4"
      ]
     },
     "execution_count": 46,
     "metadata": {},
     "output_type": "execute_result"
    }
   ],
   "source": [
    "len('spam')"
   ]
  },
  {
   "cell_type": "code",
   "execution_count": 54,
   "metadata": {},
   "outputs": [
    {
     "name": "stdout",
     "output_type": "stream",
     "text": [
      "D\n",
      "o\n",
      "e\n",
      "loi\n",
      "Deloi\n"
     ]
    }
   ],
   "source": [
    "# Index:\n",
    "S = 'Deloitte and Touche'\n",
    "print(S[0])\n",
    "print(S[3])\n",
    "print(S[-1])\n",
    "print(S[2:5])\n",
    "print(S[0:5])"
   ]
  },
  {
   "cell_type": "code",
   "execution_count": 56,
   "metadata": {},
   "outputs": [
    {
     "data": {
      "text/plain": [
       "'Duloitte and Touche'"
      ]
     },
     "execution_count": 56,
     "metadata": {},
     "output_type": "execute_result"
    }
   ],
   "source": [
    "S[0] + 'u' + S[2:]"
   ]
  },
  {
   "cell_type": "code",
   "execution_count": 65,
   "metadata": {},
   "outputs": [
    {
     "name": "stdout",
     "output_type": "stream",
     "text": [
      "1\n",
      "3\n",
      "3\n",
      "-1\n"
     ]
    }
   ],
   "source": [
    "print(S.find('e'))\n",
    "print(S.find('o'))\n",
    "print(S.find('oit'))\n",
    "print(S.find('w'))"
   ]
  },
  {
   "cell_type": "code",
   "execution_count": 68,
   "metadata": {},
   "outputs": [
    {
     "name": "stdout",
     "output_type": "stream",
     "text": [
      "DelЙitte and TЙuche\n"
     ]
    }
   ],
   "source": [
    "print(S.replace('o', 'Й'))"
   ]
  },
  {
   "cell_type": "code",
   "execution_count": 71,
   "metadata": {},
   "outputs": [
    {
     "name": "stdout",
     "output_type": "stream",
     "text": [
      "kilometer\n",
      "KILOMETER\n"
     ]
    }
   ],
   "source": [
    "s = \"KiloMEter\"\n",
    "print(s.lower())\n",
    "print(s.upper())"
   ]
  },
  {
   "cell_type": "code",
   "execution_count": 48,
   "metadata": {},
   "outputs": [
    {
     "ename": "IndexError",
     "evalue": "string index out of range",
     "output_type": "error",
     "traceback": [
      "\u001b[0;31m---------------------------------------------------------------------------\u001b[0m",
      "\u001b[0;31mIndexError\u001b[0m                                Traceback (most recent call last)",
      "\u001b[0;32m<ipython-input-48-4af6918e0437>\u001b[0m in \u001b[0;36m<module>\u001b[0;34m\u001b[0m\n\u001b[1;32m      1\u001b[0m \u001b[0;31m# What if we try to get not existing element?\u001b[0m\u001b[0;34m\u001b[0m\u001b[0;34m\u001b[0m\u001b[0;34m\u001b[0m\u001b[0m\n\u001b[0;32m----> 2\u001b[0;31m \u001b[0mS\u001b[0m\u001b[0;34m[\u001b[0m\u001b[0;36m5\u001b[0m\u001b[0;34m]\u001b[0m\u001b[0;34m\u001b[0m\u001b[0;34m\u001b[0m\u001b[0m\n\u001b[0m",
      "\u001b[0;31mIndexError\u001b[0m: string index out of range"
     ]
    }
   ],
   "source": [
    "# What if we try to get not existing element?\n",
    "S[5]"
   ]
  },
  {
   "cell_type": "markdown",
   "metadata": {},
   "source": [
    "### Lists:"
   ]
  },
  {
   "cell_type": "code",
   "execution_count": 78,
   "metadata": {},
   "outputs": [
    {
     "name": "stdout",
     "output_type": "stream",
     "text": [
      "6\n"
     ]
    }
   ],
   "source": [
    "lottery = [3, 42, 12, 19, 30, 59]\n",
    "print(len(lottery))"
   ]
  },
  {
   "cell_type": "code",
   "execution_count": 79,
   "metadata": {},
   "outputs": [
    {
     "name": "stdout",
     "output_type": "stream",
     "text": [
      "[3, 12, 19, 30, 42, 59]\n",
      "[59, 42, 30, 19, 12, 3]\n"
     ]
    }
   ],
   "source": [
    "lottery.sort()\n",
    "print(lottery)\n",
    "lottery.reverse()\n",
    "print(lottery)"
   ]
  },
  {
   "cell_type": "code",
   "execution_count": 80,
   "metadata": {},
   "outputs": [
    {
     "name": "stdout",
     "output_type": "stream",
     "text": [
      "[59, 42, 30, 19, 12, 3, 199]\n"
     ]
    }
   ],
   "source": [
    "# What will be printed?\n",
    "lottery.append(199)\n",
    "print(lottery)"
   ]
  },
  {
   "cell_type": "code",
   "execution_count": 81,
   "metadata": {},
   "outputs": [
    {
     "name": "stdout",
     "output_type": "stream",
     "text": [
      "59\n",
      "42\n",
      "[42, 30]\n"
     ]
    }
   ],
   "source": [
    "# What will be printed?\n",
    "print(lottery[0])\n",
    "print(lottery[1])\n",
    "print(lottery[1:3])"
   ]
  },
  {
   "cell_type": "code",
   "execution_count": 82,
   "metadata": {},
   "outputs": [
    {
     "name": "stdout",
     "output_type": "stream",
     "text": [
      "[42, 30, 19, 12, 3, 199]\n"
     ]
    }
   ],
   "source": [
    "# What will be printed?\n",
    "lottery.pop(0)\n",
    "print(lottery)"
   ]
  },
  {
   "cell_type": "markdown",
   "metadata": {},
   "source": [
    "### Dictionaries:"
   ]
  },
  {
   "cell_type": "code",
   "execution_count": 85,
   "metadata": {},
   "outputs": [
    {
     "name": "stdout",
     "output_type": "stream",
     "text": [
      "Ola\n"
     ]
    }
   ],
   "source": [
    "participant = {'name': 'Ola', 'country': 'Poland', 'favorite_numbers': [7, 42, 92]}\n",
    "# What will be printed?\n",
    "print(participant['name'])"
   ]
  },
  {
   "cell_type": "code",
   "execution_count": 86,
   "metadata": {},
   "outputs": [
    {
     "ename": "KeyError",
     "evalue": "'age'",
     "output_type": "error",
     "traceback": [
      "\u001b[0;31m---------------------------------------------------------------------------\u001b[0m",
      "\u001b[0;31mKeyError\u001b[0m                                  Traceback (most recent call last)",
      "\u001b[0;32m<ipython-input-86-81db6f528299>\u001b[0m in \u001b[0;36m<module>\u001b[0;34m\u001b[0m\n\u001b[0;32m----> 1\u001b[0;31m \u001b[0mprint\u001b[0m\u001b[0;34m(\u001b[0m\u001b[0mparticipant\u001b[0m\u001b[0;34m[\u001b[0m\u001b[0;34m'age'\u001b[0m\u001b[0;34m]\u001b[0m\u001b[0;34m)\u001b[0m\u001b[0;34m\u001b[0m\u001b[0;34m\u001b[0m\u001b[0m\n\u001b[0m",
      "\u001b[0;31mKeyError\u001b[0m: 'age'"
     ]
    }
   ],
   "source": [
    "# What will be printed?\n",
    "print(participant['age'])"
   ]
  },
  {
   "cell_type": "code",
   "execution_count": 87,
   "metadata": {},
   "outputs": [
    {
     "name": "stdout",
     "output_type": "stream",
     "text": [
      "{'name': 'Ola', 'country': 'Germany', 'favorite_numbers': [7, 42, 92], 'favorite_language': 'Python'}\n"
     ]
    }
   ],
   "source": [
    "participant['favorite_language'] = 'Python'\n",
    "participant['country'] = 'Germany'\n",
    "print(participant)"
   ]
  },
  {
   "cell_type": "markdown",
   "metadata": {},
   "source": [
    "## if-else-elif construction:"
   ]
  },
  {
   "cell_type": "code",
   "execution_count": 178,
   "metadata": {},
   "outputs": [
    {
     "ename": "IndentationError",
     "evalue": "unexpected indent (<ipython-input-178-2b1eda00665e>, line 3)",
     "output_type": "error",
     "traceback": [
      "\u001b[0;36m  File \u001b[0;32m\"<ipython-input-178-2b1eda00665e>\"\u001b[0;36m, line \u001b[0;32m3\u001b[0m\n\u001b[0;31m    c = 1 + 2\u001b[0m\n\u001b[0m    ^\u001b[0m\n\u001b[0;31mIndentationError\u001b[0m\u001b[0;31m:\u001b[0m unexpected indent\n"
     ]
    }
   ],
   "source": [
    "if 1 > 0:\n",
    "    print('OK')\n",
    "     c = 1 + 2 "
   ]
  },
  {
   "cell_type": "markdown",
   "metadata": {},
   "source": [
    "if condition1:\n",
    "    state1\n",
    "elif condition2:\n",
    "    state2\n",
    "else:\n",
    "    state3"
   ]
  },
  {
   "cell_type": "code",
   "execution_count": 107,
   "metadata": {},
   "outputs": [
    {
     "name": "stdout",
     "output_type": "stream",
     "text": [
      "True\n",
      "False\n"
     ]
    }
   ],
   "source": [
    "print(True)\n",
    "print(False)"
   ]
  },
  {
   "cell_type": "code",
   "execution_count": 104,
   "metadata": {},
   "outputs": [
    {
     "name": "stdout",
     "output_type": "stream",
     "text": [
      "a is bigger than 10\n"
     ]
    }
   ],
   "source": [
    "# What will be printed?\n",
    "a = 0 # try a = 0 or a = 10\n",
    "if a < 0:\n",
    "    print('a is bigger than 0')\n",
    "elif 0 < a < 10:\n",
    "    print('a if between 0 and 10')\n",
    "else:\n",
    "    print('a is bigger than 10')"
   ]
  },
  {
   "cell_type": "code",
   "execution_count": 105,
   "metadata": {},
   "outputs": [
    {
     "data": {
      "text/plain": [
       "False"
      ]
     },
     "execution_count": 105,
     "metadata": {},
     "output_type": "execute_result"
    }
   ],
   "source": [
    "0 < 0"
   ]
  },
  {
   "cell_type": "code",
   "execution_count": 116,
   "metadata": {},
   "outputs": [
    {
     "data": {
      "text/plain": [
       "True"
      ]
     },
     "execution_count": 116,
     "metadata": {},
     "output_type": "execute_result"
    }
   ],
   "source": [
    "len([1, 2, 3]) == 3 and 2 > 2"
   ]
  },
  {
   "cell_type": "code",
   "execution_count": 118,
   "metadata": {},
   "outputs": [],
   "source": [
    "# What will be printed?\n",
    "if len([1, 2, 3]) == 3 and 2 > 2:\n",
    "    print('OK')"
   ]
  },
  {
   "cell_type": "code",
   "execution_count": 119,
   "metadata": {},
   "outputs": [
    {
     "name": "stdout",
     "output_type": "stream",
     "text": [
      "OK\n"
     ]
    }
   ],
   "source": [
    "# What will be printed?\n",
    "if len([1, 2, 3]) == 3 or 2 > 2:\n",
    "    print('OK')"
   ]
  },
  {
   "cell_type": "markdown",
   "metadata": {},
   "source": [
    "## Loops:"
   ]
  },
  {
   "cell_type": "markdown",
   "metadata": {},
   "source": [
    "<img src=\"https://www.c-programming-simple-steps.com/images/Loops_Pre-conditionLoop.png\" style=\"height:500px\">"
   ]
  },
  {
   "cell_type": "code",
   "execution_count": 125,
   "metadata": {},
   "outputs": [
    {
     "name": "stdout",
     "output_type": "stream",
     "text": [
      "5\n",
      "7\n",
      "9\n",
      "11\n",
      "13\n",
      "Hi 15\n"
     ]
    }
   ],
   "source": [
    "i = 5\n",
    "while i < 15:\n",
    "    print(i)\n",
    "    i = i + 2\n",
    "# print('Hi', i)"
   ]
  },
  {
   "cell_type": "code",
   "execution_count": 126,
   "metadata": {},
   "outputs": [
    {
     "name": "stdout",
     "output_type": "stream",
     "text": [
      "hh\n",
      "ee\n",
      "ll\n",
      "ll\n",
      "oo\n",
      "  \n",
      "ww\n",
      "oo\n",
      "rr\n",
      "ll\n",
      "dd\n"
     ]
    }
   ],
   "source": [
    "# What will be printed?\n",
    "for i in 'hello world':\n",
    "     print(i * 2) # end=''"
   ]
  },
  {
   "cell_type": "markdown",
   "metadata": {},
   "source": [
    "<img src=\"https://i.redd.it/4npl9yfg5js11.jpg\" style=\"height:500px\">"
   ]
  },
  {
   "cell_type": "markdown",
   "metadata": {},
   "source": [
    "<img src=\"https://pics.me.me/now-lets-see-who-you-really-are-for-loop-while-37394831.png\" style=\"height:500px\">"
   ]
  },
  {
   "cell_type": "code",
   "execution_count": 166,
   "metadata": {},
   "outputs": [
    {
     "name": "stdout",
     "output_type": "stream",
     "text": [
      "20\n",
      "-15\n",
      "16\n",
      "100\n",
      "31\n"
     ]
    }
   ],
   "source": [
    "# Task: Rewrite this code using while loop:\n",
    "\n",
    "random_list = [20, -15, 16, 100, 31]\n",
    "for i in random_list:\n",
    "    print(i)"
   ]
  },
  {
   "cell_type": "code",
   "execution_count": null,
   "metadata": {
    "scrolled": false
   },
   "outputs": [],
   "source": [
    "# What will be printed?\n",
    "while 1 > 0:\n",
    "    print('It is still true')"
   ]
  },
  {
   "cell_type": "code",
   "execution_count": 127,
   "metadata": {},
   "outputs": [
    {
     "name": "stdout",
     "output_type": "stream",
     "text": [
      "-40\n",
      "26\n",
      "20.8\n",
      "32\n"
     ]
    }
   ],
   "source": [
    "# What will be printed?\n",
    "test_list = [-20, 13, 10.4, 16]\n",
    "for i in test_list:\n",
    "     print(i * 2) # end=''"
   ]
  },
  {
   "cell_type": "code",
   "execution_count": 132,
   "metadata": {},
   "outputs": [
    {
     "name": "stdout",
     "output_type": "stream",
     "text": [
      "-40\n",
      "Skip: 13\n",
      "20.8\n",
      "32\n"
     ]
    }
   ],
   "source": [
    "test_list = [-20, 13, 10.4, 16]\n",
    "for i in test_list:\n",
    "    if i == 13:\n",
    "        print('Skip:', i)\n",
    "        continue\n",
    "    print(i * 2)"
   ]
  },
  {
   "cell_type": "code",
   "execution_count": 133,
   "metadata": {},
   "outputs": [
    {
     "name": "stdout",
     "output_type": "stream",
     "text": [
      "-40\n",
      "Break at: 13\n"
     ]
    }
   ],
   "source": [
    "test_list = [-20, 13, 10.4, 16]\n",
    "for i in test_list:\n",
    "    if i == 13:\n",
    "        print('Break at:', i)\n",
    "        break\n",
    "    print(i * 2)"
   ]
  },
  {
   "cell_type": "code",
   "execution_count": 142,
   "metadata": {},
   "outputs": [
    {
     "ename": "SyntaxError",
     "evalue": "unexpected EOF while parsing (<ipython-input-142-c6ad4bdd272b>, line 7)",
     "output_type": "error",
     "traceback": [
      "\u001b[0;36m  File \u001b[0;32m\"<ipython-input-142-c6ad4bdd272b>\"\u001b[0;36m, line \u001b[0;32m7\u001b[0m\n\u001b[0;31m    # <your code>\u001b[0m\n\u001b[0m                 ^\u001b[0m\n\u001b[0;31mSyntaxError\u001b[0m\u001b[0;31m:\u001b[0m unexpected EOF while parsing\n"
     ]
    }
   ],
   "source": [
    "# Task1:\n",
    "# Check if there is letter 'a' in 'Hello world!'\n",
    "\n",
    "test = 'Hello world!'\n",
    "for letter in test:\n",
    "    if letter == 'a':\n",
    "        # <your code>"
   ]
  },
  {
   "cell_type": "code",
   "execution_count": 143,
   "metadata": {},
   "outputs": [],
   "source": [
    "# Task2: \n",
    "# Find sum of elements of list\n",
    "numbers = [1,10,20,30,40,50]\n",
    "# <your code here>"
   ]
  },
  {
   "cell_type": "code",
   "execution_count": null,
   "metadata": {},
   "outputs": [],
   "source": [
    "# Task3: \n",
    "# Find minimum of list\n",
    "numbers = [1,10,20,30,40,50]\n",
    "# <your code here>"
   ]
  },
  {
   "cell_type": "markdown",
   "metadata": {},
   "source": [
    "### Functions:"
   ]
  },
  {
   "cell_type": "markdown",
   "metadata": {},
   "source": [
    "<img src=\"https://www.thatsoftwaredude.com/images/post/166952a8-ac94-4d24-9b42-22f982096e4e.png\" style=\"height:500px\">"
   ]
  },
  {
   "cell_type": "code",
   "execution_count": 146,
   "metadata": {},
   "outputs": [],
   "source": [
    "def add(x, y):\n",
    "    return x + y"
   ]
  },
  {
   "cell_type": "code",
   "execution_count": 147,
   "metadata": {},
   "outputs": [
    {
     "data": {
      "text/plain": [
       "5"
      ]
     },
     "execution_count": 147,
     "metadata": {},
     "output_type": "execute_result"
    }
   ],
   "source": [
    "add(2, 3)"
   ]
  },
  {
   "cell_type": "code",
   "execution_count": 148,
   "metadata": {},
   "outputs": [
    {
     "data": {
      "text/plain": [
       "'abcdef'"
      ]
     },
     "execution_count": 148,
     "metadata": {},
     "output_type": "execute_result"
    }
   ],
   "source": [
    "add('abc', 'def')"
   ]
  },
  {
   "cell_type": "code",
   "execution_count": 1,
   "metadata": {},
   "outputs": [],
   "source": [
    "# Task: write function factorial(n) = n * (n-1) * ... * 2 * 1 and try to find 5!, 10! and 210!\n",
    "def factorial(n):\n",
    "    # <YOUR CODE>"
   ]
  },
  {
   "cell_type": "code",
   "execution_count": null,
   "metadata": {},
   "outputs": [],
   "source": [
    "assert factorial(5) == 120\n",
    "assert factorial(11) == 39916800"
   ]
  },
  {
   "cell_type": "code",
   "execution_count": null,
   "metadata": {},
   "outputs": [],
   "source": [
    "# Task: write function that takes number of month and returns time of year to which this month belongs\n",
    "def get_season(n):\n",
    "    pass"
   ]
  },
  {
   "cell_type": "code",
   "execution_count": null,
   "metadata": {},
   "outputs": [],
   "source": [
    "assert get_season(12) == 'winter'\n",
    "assert get_season(6) == 'summer'\n",
    "assert get_season(3) == 'spring'"
   ]
  },
  {
   "cell_type": "code",
   "execution_count": 6,
   "metadata": {},
   "outputs": [],
   "source": [
    "# Task: write function which detects if number is prime or not \n",
    "# Prime number: if it can be devided only by 1 and by itself\n",
    "def is_prime(n):\n",
    "    pass"
   ]
  },
  {
   "cell_type": "code",
   "execution_count": null,
   "metadata": {},
   "outputs": [],
   "source": [
    "assert is_prime(12) == False\n",
    "assert is_prime(6) == False\n",
    "assert is_prime(3) == True"
   ]
  },
  {
   "cell_type": "markdown",
   "metadata": {},
   "source": [
    "## Try-except:"
   ]
  },
  {
   "cell_type": "markdown",
   "metadata": {},
   "source": [
    "<img src=\"https://i.redd.it/atf1ietqwaxy.jpg\" style=\"height:500px\">"
   ]
  },
  {
   "cell_type": "code",
   "execution_count": 11,
   "metadata": {},
   "outputs": [
    {
     "ename": "ZeroDivisionError",
     "evalue": "division by zero",
     "output_type": "error",
     "traceback": [
      "\u001b[0;31m---------------------------------------------------------------------------\u001b[0m",
      "\u001b[0;31mZeroDivisionError\u001b[0m                         Traceback (most recent call last)",
      "\u001b[0;32m<ipython-input-11-581ddffab00b>\u001b[0m in \u001b[0;36m<module>\u001b[0;34m\u001b[0m\n\u001b[1;32m      2\u001b[0m \u001b[0ma\u001b[0m \u001b[0;34m=\u001b[0m \u001b[0;36m10\u001b[0m\u001b[0;34m\u001b[0m\u001b[0;34m\u001b[0m\u001b[0m\n\u001b[1;32m      3\u001b[0m \u001b[0mb\u001b[0m \u001b[0;34m=\u001b[0m \u001b[0;36m0\u001b[0m\u001b[0;34m\u001b[0m\u001b[0;34m\u001b[0m\u001b[0m\n\u001b[0;32m----> 4\u001b[0;31m \u001b[0ma\u001b[0m \u001b[0;34m/\u001b[0m \u001b[0mb\u001b[0m\u001b[0;34m\u001b[0m\u001b[0;34m\u001b[0m\u001b[0m\n\u001b[0m",
      "\u001b[0;31mZeroDivisionError\u001b[0m: division by zero"
     ]
    }
   ],
   "source": [
    "# Example\n",
    "a = 10\n",
    "b = 0\n",
    "a / b"
   ]
  },
  {
   "cell_type": "code",
   "execution_count": 14,
   "metadata": {},
   "outputs": [
    {
     "name": "stdout",
     "output_type": "stream",
     "text": [
      "Division by zero!\n"
     ]
    }
   ],
   "source": [
    "try:\n",
    "    a / b\n",
    "except:\n",
    "    print('Division by zero!')"
   ]
  },
  {
   "cell_type": "code",
   "execution_count": 24,
   "metadata": {},
   "outputs": [
    {
     "name": "stdout",
     "output_type": "stream",
     "text": [
      "Division by zero!\n"
     ]
    }
   ],
   "source": [
    "try:\n",
    "    a / b\n",
    "except ZeroDivisionError:\n",
    "    print('Division by zero!')\n",
    "except SystemError:\n",
    "    print('A')"
   ]
  },
  {
   "cell_type": "code",
   "execution_count": 35,
   "metadata": {},
   "outputs": [
    {
     "name": "stdout",
     "output_type": "stream",
     "text": [
      "Cannot handle it!\n"
     ]
    }
   ],
   "source": [
    "str_test = 'wqer'\n",
    "try:\n",
    "    number = int(str_test)\n",
    "except:\n",
    "    print('Cannot handle it!')"
   ]
  },
  {
   "cell_type": "code",
   "execution_count": 36,
   "metadata": {},
   "outputs": [],
   "source": [
    "# Task: write a function which takes list of strings and convert in to list of integers (if possible)\n",
    "# Inside this function try to convert each element to interer, If you are not succeeded => return -1\n",
    "def conver_to_int(list_string):\n",
    "    pass"
   ]
  },
  {
   "cell_type": "code",
   "execution_count": 37,
   "metadata": {},
   "outputs": [
    {
     "ename": "AssertionError",
     "evalue": "",
     "output_type": "error",
     "traceback": [
      "\u001b[0;31m---------------------------------------------------------------------------\u001b[0m",
      "\u001b[0;31mAssertionError\u001b[0m                            Traceback (most recent call last)",
      "\u001b[0;32m<ipython-input-37-60f5093a71c9>\u001b[0m in \u001b[0;36m<module>\u001b[0;34m\u001b[0m\n\u001b[0;32m----> 1\u001b[0;31m \u001b[0;32massert\u001b[0m \u001b[0mconver_to_int\u001b[0m\u001b[0;34m(\u001b[0m\u001b[0;34m[\u001b[0m\u001b[0;34m'1'\u001b[0m\u001b[0;34m,\u001b[0m \u001b[0;34m'2'\u001b[0m\u001b[0;34m,\u001b[0m \u001b[0;34m'3'\u001b[0m\u001b[0;34m]\u001b[0m\u001b[0;34m)\u001b[0m \u001b[0;34m==\u001b[0m \u001b[0;34m[\u001b[0m\u001b[0;36m1\u001b[0m\u001b[0;34m,\u001b[0m \u001b[0;36m2\u001b[0m\u001b[0;34m,\u001b[0m \u001b[0;36m3\u001b[0m\u001b[0;34m]\u001b[0m\u001b[0;34m\u001b[0m\u001b[0;34m\u001b[0m\u001b[0m\n\u001b[0m",
      "\u001b[0;31mAssertionError\u001b[0m: "
     ]
    }
   ],
   "source": [
    "assert conver_to_int(['1', '2', '3']) == [1, 2, 3]\n",
    "assert conver_to_int(['1', 'a', '3']) == -1\n",
    "assert conver_to_int(['-14', '2421', '31']) == [-14, 2421, 31]"
   ]
  },
  {
   "cell_type": "code",
   "execution_count": null,
   "metadata": {},
   "outputs": [],
   "source": []
  },
  {
   "cell_type": "markdown",
   "metadata": {},
   "source": [
    "## Read and write files: \n",
    "- txt files\n",
    "- excel files"
   ]
  },
  {
   "cell_type": "code",
   "execution_count": 26,
   "metadata": {},
   "outputs": [
    {
     "data": {
      "text/html": [
       "<div>\n",
       "<style scoped>\n",
       "    .dataframe tbody tr th:only-of-type {\n",
       "        vertical-align: middle;\n",
       "    }\n",
       "\n",
       "    .dataframe tbody tr th {\n",
       "        vertical-align: top;\n",
       "    }\n",
       "\n",
       "    .dataframe thead th {\n",
       "        text-align: right;\n",
       "    }\n",
       "</style>\n",
       "<table border=\"1\" class=\"dataframe\">\n",
       "  <thead>\n",
       "    <tr style=\"text-align: right;\">\n",
       "      <th></th>\n",
       "      <th>Company</th>\n",
       "      <th>revenue</th>\n",
       "      <th>number_employees</th>\n",
       "      <th>City</th>\n",
       "    </tr>\n",
       "  </thead>\n",
       "  <tbody>\n",
       "    <tr>\n",
       "      <td>0</td>\n",
       "      <td>Roga&amp;Kopyta</td>\n",
       "      <td>100.0</td>\n",
       "      <td>1300</td>\n",
       "      <td>Moscow</td>\n",
       "    </tr>\n",
       "    <tr>\n",
       "      <td>1</td>\n",
       "      <td>Yandex</td>\n",
       "      <td>350.0</td>\n",
       "      <td>1000</td>\n",
       "      <td>Saint-Petersburg</td>\n",
       "    </tr>\n",
       "    <tr>\n",
       "      <td>2</td>\n",
       "      <td>Mail</td>\n",
       "      <td>0.5</td>\n",
       "      <td>3000</td>\n",
       "      <td>Ekaterenburg</td>\n",
       "    </tr>\n",
       "    <tr>\n",
       "      <td>3</td>\n",
       "      <td>Avito</td>\n",
       "      <td>250.0</td>\n",
       "      <td>100</td>\n",
       "      <td>Stokholm</td>\n",
       "    </tr>\n",
       "    <tr>\n",
       "      <td>4</td>\n",
       "      <td>Sberbank</td>\n",
       "      <td>100000000.0</td>\n",
       "      <td>30000000</td>\n",
       "      <td>Moscow</td>\n",
       "    </tr>\n",
       "  </tbody>\n",
       "</table>\n",
       "</div>"
      ],
      "text/plain": [
       "       Company      revenue  number_employees               City\n",
       "0  Roga&Kopyta        100.0              1300             Moscow\n",
       "1       Yandex        350.0              1000   Saint-Petersburg\n",
       "2         Mail          0.5              3000       Ekaterenburg\n",
       "3        Avito        250.0               100           Stokholm\n",
       "4     Sberbank  100000000.0          30000000             Moscow"
      ]
     },
     "execution_count": 26,
     "metadata": {},
     "output_type": "execute_result"
    }
   ],
   "source": [
    "# Read txt:\n",
    "df = pd.read_csv('new_text.txt', sep=\",\", header=0)\n",
    "df"
   ]
  },
  {
   "cell_type": "code",
   "execution_count": 27,
   "metadata": {},
   "outputs": [
    {
     "data": {
      "text/html": [
       "<div>\n",
       "<style scoped>\n",
       "    .dataframe tbody tr th:only-of-type {\n",
       "        vertical-align: middle;\n",
       "    }\n",
       "\n",
       "    .dataframe tbody tr th {\n",
       "        vertical-align: top;\n",
       "    }\n",
       "\n",
       "    .dataframe thead th {\n",
       "        text-align: right;\n",
       "    }\n",
       "</style>\n",
       "<table border=\"1\" class=\"dataframe\">\n",
       "  <thead>\n",
       "    <tr style=\"text-align: right;\">\n",
       "      <th></th>\n",
       "      <th>policyID</th>\n",
       "      <th>statecode</th>\n",
       "      <th>county</th>\n",
       "      <th>eq_site_limit</th>\n",
       "      <th>hu_site_limit</th>\n",
       "      <th>fl_site_limit</th>\n",
       "      <th>fr_site_limit</th>\n",
       "      <th>tiv_2011</th>\n",
       "      <th>tiv_2012</th>\n",
       "      <th>eq_site_deductible</th>\n",
       "      <th>hu_site_deductible</th>\n",
       "      <th>fl_site_deductible</th>\n",
       "      <th>fr_site_deductible</th>\n",
       "      <th>point_latitude</th>\n",
       "      <th>point_longitude</th>\n",
       "      <th>line</th>\n",
       "      <th>construction</th>\n",
       "      <th>point_granularity</th>\n",
       "    </tr>\n",
       "  </thead>\n",
       "  <tbody>\n",
       "    <tr>\n",
       "      <td>0</td>\n",
       "      <td>119736</td>\n",
       "      <td>FL</td>\n",
       "      <td>CLAY COUNTY</td>\n",
       "      <td>498960.0</td>\n",
       "      <td>498960.00</td>\n",
       "      <td>498960.0</td>\n",
       "      <td>498960.0</td>\n",
       "      <td>498960.00</td>\n",
       "      <td>792148.90</td>\n",
       "      <td>0.0</td>\n",
       "      <td>9979.2</td>\n",
       "      <td>0.0</td>\n",
       "      <td>0</td>\n",
       "      <td>30.102261</td>\n",
       "      <td>-81.711777</td>\n",
       "      <td>Residential</td>\n",
       "      <td>Masonry</td>\n",
       "      <td>1</td>\n",
       "    </tr>\n",
       "    <tr>\n",
       "      <td>1</td>\n",
       "      <td>448094</td>\n",
       "      <td>FL</td>\n",
       "      <td>CLAY COUNTY</td>\n",
       "      <td>1322376.3</td>\n",
       "      <td>1322376.30</td>\n",
       "      <td>1322376.3</td>\n",
       "      <td>1322376.3</td>\n",
       "      <td>1322376.30</td>\n",
       "      <td>1438163.57</td>\n",
       "      <td>0.0</td>\n",
       "      <td>0.0</td>\n",
       "      <td>0.0</td>\n",
       "      <td>0</td>\n",
       "      <td>30.063936</td>\n",
       "      <td>-81.707664</td>\n",
       "      <td>Residential</td>\n",
       "      <td>Masonry</td>\n",
       "      <td>3</td>\n",
       "    </tr>\n",
       "    <tr>\n",
       "      <td>2</td>\n",
       "      <td>206893</td>\n",
       "      <td>FL</td>\n",
       "      <td>CLAY COUNTY</td>\n",
       "      <td>190724.4</td>\n",
       "      <td>190724.40</td>\n",
       "      <td>190724.4</td>\n",
       "      <td>190724.4</td>\n",
       "      <td>190724.40</td>\n",
       "      <td>192476.78</td>\n",
       "      <td>0.0</td>\n",
       "      <td>0.0</td>\n",
       "      <td>0.0</td>\n",
       "      <td>0</td>\n",
       "      <td>30.089579</td>\n",
       "      <td>-81.700455</td>\n",
       "      <td>Residential</td>\n",
       "      <td>Wood</td>\n",
       "      <td>1</td>\n",
       "    </tr>\n",
       "    <tr>\n",
       "      <td>3</td>\n",
       "      <td>333743</td>\n",
       "      <td>FL</td>\n",
       "      <td>CLAY COUNTY</td>\n",
       "      <td>0.0</td>\n",
       "      <td>79520.76</td>\n",
       "      <td>0.0</td>\n",
       "      <td>0.0</td>\n",
       "      <td>79520.76</td>\n",
       "      <td>86854.48</td>\n",
       "      <td>0.0</td>\n",
       "      <td>0.0</td>\n",
       "      <td>0.0</td>\n",
       "      <td>0</td>\n",
       "      <td>30.063236</td>\n",
       "      <td>-81.707703</td>\n",
       "      <td>Residential</td>\n",
       "      <td>Wood</td>\n",
       "      <td>3</td>\n",
       "    </tr>\n",
       "    <tr>\n",
       "      <td>4</td>\n",
       "      <td>172534</td>\n",
       "      <td>FL</td>\n",
       "      <td>CLAY COUNTY</td>\n",
       "      <td>0.0</td>\n",
       "      <td>254281.50</td>\n",
       "      <td>0.0</td>\n",
       "      <td>254281.5</td>\n",
       "      <td>254281.50</td>\n",
       "      <td>246144.49</td>\n",
       "      <td>0.0</td>\n",
       "      <td>0.0</td>\n",
       "      <td>0.0</td>\n",
       "      <td>0</td>\n",
       "      <td>30.060614</td>\n",
       "      <td>-81.702675</td>\n",
       "      <td>Residential</td>\n",
       "      <td>Wood</td>\n",
       "      <td>1</td>\n",
       "    </tr>\n",
       "    <tr>\n",
       "      <td>...</td>\n",
       "      <td>...</td>\n",
       "      <td>...</td>\n",
       "      <td>...</td>\n",
       "      <td>...</td>\n",
       "      <td>...</td>\n",
       "      <td>...</td>\n",
       "      <td>...</td>\n",
       "      <td>...</td>\n",
       "      <td>...</td>\n",
       "      <td>...</td>\n",
       "      <td>...</td>\n",
       "      <td>...</td>\n",
       "      <td>...</td>\n",
       "      <td>...</td>\n",
       "      <td>...</td>\n",
       "      <td>...</td>\n",
       "      <td>...</td>\n",
       "      <td>...</td>\n",
       "    </tr>\n",
       "    <tr>\n",
       "      <td>36629</td>\n",
       "      <td>404309</td>\n",
       "      <td>FL</td>\n",
       "      <td>PINELLAS COUNTY</td>\n",
       "      <td>0.0</td>\n",
       "      <td>88722.00</td>\n",
       "      <td>0.0</td>\n",
       "      <td>88722.0</td>\n",
       "      <td>88722.00</td>\n",
       "      <td>155065.65</td>\n",
       "      <td>0.0</td>\n",
       "      <td>0.0</td>\n",
       "      <td>0.0</td>\n",
       "      <td>0</td>\n",
       "      <td>28.122885</td>\n",
       "      <td>-82.770218</td>\n",
       "      <td>Residential</td>\n",
       "      <td>Wood</td>\n",
       "      <td>3</td>\n",
       "    </tr>\n",
       "    <tr>\n",
       "      <td>36630</td>\n",
       "      <td>465875</td>\n",
       "      <td>FL</td>\n",
       "      <td>PINELLAS COUNTY</td>\n",
       "      <td>1297057.5</td>\n",
       "      <td>1297057.50</td>\n",
       "      <td>1297057.5</td>\n",
       "      <td>1297057.5</td>\n",
       "      <td>1297057.50</td>\n",
       "      <td>1577500.79</td>\n",
       "      <td>0.0</td>\n",
       "      <td>0.0</td>\n",
       "      <td>0.0</td>\n",
       "      <td>0</td>\n",
       "      <td>28.080900</td>\n",
       "      <td>-82.758800</td>\n",
       "      <td>Residential</td>\n",
       "      <td>Masonry</td>\n",
       "      <td>1</td>\n",
       "    </tr>\n",
       "    <tr>\n",
       "      <td>36631</td>\n",
       "      <td>791209</td>\n",
       "      <td>FL</td>\n",
       "      <td>PINELLAS COUNTY</td>\n",
       "      <td>173286.9</td>\n",
       "      <td>173286.90</td>\n",
       "      <td>0.0</td>\n",
       "      <td>0.0</td>\n",
       "      <td>173286.90</td>\n",
       "      <td>205527.97</td>\n",
       "      <td>0.0</td>\n",
       "      <td>0.0</td>\n",
       "      <td>0.0</td>\n",
       "      <td>0</td>\n",
       "      <td>28.110550</td>\n",
       "      <td>-82.766360</td>\n",
       "      <td>Residential</td>\n",
       "      <td>Wood</td>\n",
       "      <td>4</td>\n",
       "    </tr>\n",
       "    <tr>\n",
       "      <td>36632</td>\n",
       "      <td>322627</td>\n",
       "      <td>FL</td>\n",
       "      <td>PINELLAS COUNTY</td>\n",
       "      <td>1499781.6</td>\n",
       "      <td>1499781.60</td>\n",
       "      <td>0.0</td>\n",
       "      <td>0.0</td>\n",
       "      <td>1499781.60</td>\n",
       "      <td>1768782.43</td>\n",
       "      <td>0.0</td>\n",
       "      <td>0.0</td>\n",
       "      <td>0.0</td>\n",
       "      <td>0</td>\n",
       "      <td>28.089415</td>\n",
       "      <td>-82.697411</td>\n",
       "      <td>Residential</td>\n",
       "      <td>Masonry</td>\n",
       "      <td>3</td>\n",
       "    </tr>\n",
       "    <tr>\n",
       "      <td>36633</td>\n",
       "      <td>398149</td>\n",
       "      <td>FL</td>\n",
       "      <td>PINELLAS COUNTY</td>\n",
       "      <td>373488.3</td>\n",
       "      <td>373488.30</td>\n",
       "      <td>0.0</td>\n",
       "      <td>0.0</td>\n",
       "      <td>373488.30</td>\n",
       "      <td>596003.67</td>\n",
       "      <td>0.0</td>\n",
       "      <td>0.0</td>\n",
       "      <td>0.0</td>\n",
       "      <td>0</td>\n",
       "      <td>28.064440</td>\n",
       "      <td>-82.774590</td>\n",
       "      <td>Residential</td>\n",
       "      <td>Masonry</td>\n",
       "      <td>1</td>\n",
       "    </tr>\n",
       "  </tbody>\n",
       "</table>\n",
       "<p>36634 rows × 18 columns</p>\n",
       "</div>"
      ],
      "text/plain": [
       "       policyID statecode           county  eq_site_limit  hu_site_limit  \\\n",
       "0        119736        FL      CLAY COUNTY       498960.0      498960.00   \n",
       "1        448094        FL      CLAY COUNTY      1322376.3     1322376.30   \n",
       "2        206893        FL      CLAY COUNTY       190724.4      190724.40   \n",
       "3        333743        FL      CLAY COUNTY            0.0       79520.76   \n",
       "4        172534        FL      CLAY COUNTY            0.0      254281.50   \n",
       "...         ...       ...              ...            ...            ...   \n",
       "36629    404309        FL  PINELLAS COUNTY            0.0       88722.00   \n",
       "36630    465875        FL  PINELLAS COUNTY      1297057.5     1297057.50   \n",
       "36631    791209        FL  PINELLAS COUNTY       173286.9      173286.90   \n",
       "36632    322627        FL  PINELLAS COUNTY      1499781.6     1499781.60   \n",
       "36633    398149        FL  PINELLAS COUNTY       373488.3      373488.30   \n",
       "\n",
       "       fl_site_limit  fr_site_limit    tiv_2011    tiv_2012  \\\n",
       "0           498960.0       498960.0   498960.00   792148.90   \n",
       "1          1322376.3      1322376.3  1322376.30  1438163.57   \n",
       "2           190724.4       190724.4   190724.40   192476.78   \n",
       "3                0.0            0.0    79520.76    86854.48   \n",
       "4                0.0       254281.5   254281.50   246144.49   \n",
       "...              ...            ...         ...         ...   \n",
       "36629            0.0        88722.0    88722.00   155065.65   \n",
       "36630      1297057.5      1297057.5  1297057.50  1577500.79   \n",
       "36631            0.0            0.0   173286.90   205527.97   \n",
       "36632            0.0            0.0  1499781.60  1768782.43   \n",
       "36633            0.0            0.0   373488.30   596003.67   \n",
       "\n",
       "       eq_site_deductible  hu_site_deductible  fl_site_deductible  \\\n",
       "0                     0.0              9979.2                 0.0   \n",
       "1                     0.0                 0.0                 0.0   \n",
       "2                     0.0                 0.0                 0.0   \n",
       "3                     0.0                 0.0                 0.0   \n",
       "4                     0.0                 0.0                 0.0   \n",
       "...                   ...                 ...                 ...   \n",
       "36629                 0.0                 0.0                 0.0   \n",
       "36630                 0.0                 0.0                 0.0   \n",
       "36631                 0.0                 0.0                 0.0   \n",
       "36632                 0.0                 0.0                 0.0   \n",
       "36633                 0.0                 0.0                 0.0   \n",
       "\n",
       "       fr_site_deductible  point_latitude  point_longitude         line  \\\n",
       "0                       0       30.102261       -81.711777  Residential   \n",
       "1                       0       30.063936       -81.707664  Residential   \n",
       "2                       0       30.089579       -81.700455  Residential   \n",
       "3                       0       30.063236       -81.707703  Residential   \n",
       "4                       0       30.060614       -81.702675  Residential   \n",
       "...                   ...             ...              ...          ...   \n",
       "36629                   0       28.122885       -82.770218  Residential   \n",
       "36630                   0       28.080900       -82.758800  Residential   \n",
       "36631                   0       28.110550       -82.766360  Residential   \n",
       "36632                   0       28.089415       -82.697411  Residential   \n",
       "36633                   0       28.064440       -82.774590  Residential   \n",
       "\n",
       "      construction  point_granularity  \n",
       "0          Masonry                  1  \n",
       "1          Masonry                  3  \n",
       "2             Wood                  1  \n",
       "3             Wood                  3  \n",
       "4             Wood                  1  \n",
       "...            ...                ...  \n",
       "36629         Wood                  3  \n",
       "36630      Masonry                  1  \n",
       "36631         Wood                  4  \n",
       "36632      Masonry                  3  \n",
       "36633      Masonry                  1  \n",
       "\n",
       "[36634 rows x 18 columns]"
      ]
     },
     "execution_count": 27,
     "metadata": {},
     "output_type": "execute_result"
    }
   ],
   "source": [
    "# Read csv:\n",
    "data = pd.read_csv('FL_insurance_sample.csv', sep=\",\", header=0)\n",
    "data"
   ]
  },
  {
   "cell_type": "code",
   "execution_count": 36,
   "metadata": {},
   "outputs": [
    {
     "data": {
      "text/plain": [
       "'/Users/Dmitry/Jupyter_Projects/.venv/bin/python3'"
      ]
     },
     "execution_count": 36,
     "metadata": {},
     "output_type": "execute_result"
    }
   ],
   "source": [
    "sys.executable"
   ]
  },
  {
   "cell_type": "code",
   "execution_count": 37,
   "metadata": {},
   "outputs": [
    {
     "name": "stdout",
     "output_type": "stream",
     "text": [
      "Collecting xlrd\n",
      "\u001b[?25l  Downloading https://files.pythonhosted.org/packages/b0/16/63576a1a001752e34bf8ea62e367997530dc553b689356b9879339cf45a4/xlrd-1.2.0-py2.py3-none-any.whl (103kB)\n",
      "\u001b[K    100% |████████████████████████████████| 112kB 5.2MB/s ta 0:00:01\n",
      "\u001b[?25hInstalling collected packages: xlrd\n",
      "Successfully installed xlrd-1.2.0\n",
      "\u001b[33mYou are using pip version 19.0.3, however version 19.2.3 is available.\n",
      "You should consider upgrading via the 'pip install --upgrade pip' command.\u001b[0m\n"
     ]
    }
   ],
   "source": [
    "!/Users/Dmitry/Jupyter_Projects/.venv/bin/python3 -m pip install xlrd"
   ]
  },
  {
   "cell_type": "code",
   "execution_count": 5,
   "metadata": {},
   "outputs": [
    {
     "data": {
      "text/html": [
       "<div>\n",
       "<style scoped>\n",
       "    .dataframe tbody tr th:only-of-type {\n",
       "        vertical-align: middle;\n",
       "    }\n",
       "\n",
       "    .dataframe tbody tr th {\n",
       "        vertical-align: top;\n",
       "    }\n",
       "\n",
       "    .dataframe thead th {\n",
       "        text-align: right;\n",
       "    }\n",
       "</style>\n",
       "<table border=\"1\" class=\"dataframe\">\n",
       "  <thead>\n",
       "    <tr style=\"text-align: right;\">\n",
       "      <th></th>\n",
       "      <th>0</th>\n",
       "      <th>First Name</th>\n",
       "      <th>Last Name</th>\n",
       "      <th>Gender</th>\n",
       "      <th>Country</th>\n",
       "      <th>Age</th>\n",
       "      <th>Date</th>\n",
       "      <th>Id</th>\n",
       "    </tr>\n",
       "  </thead>\n",
       "  <tbody>\n",
       "    <tr>\n",
       "      <td>0</td>\n",
       "      <td>1</td>\n",
       "      <td>Dulce</td>\n",
       "      <td>Abril</td>\n",
       "      <td>Female</td>\n",
       "      <td>United States</td>\n",
       "      <td>32</td>\n",
       "      <td>15/10/2017</td>\n",
       "      <td>1562</td>\n",
       "    </tr>\n",
       "    <tr>\n",
       "      <td>1</td>\n",
       "      <td>2</td>\n",
       "      <td>Mara</td>\n",
       "      <td>Hashimoto</td>\n",
       "      <td>Female</td>\n",
       "      <td>Great Britain</td>\n",
       "      <td>25</td>\n",
       "      <td>16/08/2016</td>\n",
       "      <td>1582</td>\n",
       "    </tr>\n",
       "    <tr>\n",
       "      <td>2</td>\n",
       "      <td>3</td>\n",
       "      <td>Philip</td>\n",
       "      <td>Gent</td>\n",
       "      <td>Male</td>\n",
       "      <td>France</td>\n",
       "      <td>36</td>\n",
       "      <td>21/05/2015</td>\n",
       "      <td>2587</td>\n",
       "    </tr>\n",
       "    <tr>\n",
       "      <td>3</td>\n",
       "      <td>4</td>\n",
       "      <td>Kathleen</td>\n",
       "      <td>Hanner</td>\n",
       "      <td>Female</td>\n",
       "      <td>United States</td>\n",
       "      <td>25</td>\n",
       "      <td>15/10/2017</td>\n",
       "      <td>3549</td>\n",
       "    </tr>\n",
       "    <tr>\n",
       "      <td>4</td>\n",
       "      <td>5</td>\n",
       "      <td>Nereida</td>\n",
       "      <td>Magwood</td>\n",
       "      <td>Female</td>\n",
       "      <td>United States</td>\n",
       "      <td>58</td>\n",
       "      <td>16/08/2016</td>\n",
       "      <td>2468</td>\n",
       "    </tr>\n",
       "    <tr>\n",
       "      <td>5</td>\n",
       "      <td>6</td>\n",
       "      <td>Gaston</td>\n",
       "      <td>Brumm</td>\n",
       "      <td>Male</td>\n",
       "      <td>United States</td>\n",
       "      <td>24</td>\n",
       "      <td>21/05/2015</td>\n",
       "      <td>2554</td>\n",
       "    </tr>\n",
       "    <tr>\n",
       "      <td>6</td>\n",
       "      <td>7</td>\n",
       "      <td>Etta</td>\n",
       "      <td>Hurn</td>\n",
       "      <td>Female</td>\n",
       "      <td>Great Britain</td>\n",
       "      <td>56</td>\n",
       "      <td>15/10/2017</td>\n",
       "      <td>3598</td>\n",
       "    </tr>\n",
       "    <tr>\n",
       "      <td>7</td>\n",
       "      <td>8</td>\n",
       "      <td>Earlean</td>\n",
       "      <td>Melgar</td>\n",
       "      <td>Female</td>\n",
       "      <td>United States</td>\n",
       "      <td>27</td>\n",
       "      <td>16/08/2016</td>\n",
       "      <td>2456</td>\n",
       "    </tr>\n",
       "    <tr>\n",
       "      <td>8</td>\n",
       "      <td>9</td>\n",
       "      <td>Vincenza</td>\n",
       "      <td>Weiland</td>\n",
       "      <td>Female</td>\n",
       "      <td>United States</td>\n",
       "      <td>40</td>\n",
       "      <td>21/05/2015</td>\n",
       "      <td>6548</td>\n",
       "    </tr>\n",
       "    <tr>\n",
       "      <td>9</td>\n",
       "      <td>10</td>\n",
       "      <td>Fallon</td>\n",
       "      <td>Winward</td>\n",
       "      <td>Female</td>\n",
       "      <td>Great Britain</td>\n",
       "      <td>28</td>\n",
       "      <td>16/08/2016</td>\n",
       "      <td>5486</td>\n",
       "    </tr>\n",
       "    <tr>\n",
       "      <td>10</td>\n",
       "      <td>11</td>\n",
       "      <td>Arcelia</td>\n",
       "      <td>Bouska</td>\n",
       "      <td>Female</td>\n",
       "      <td>Great Britain</td>\n",
       "      <td>39</td>\n",
       "      <td>21/05/2015</td>\n",
       "      <td>1258</td>\n",
       "    </tr>\n",
       "    <tr>\n",
       "      <td>11</td>\n",
       "      <td>12</td>\n",
       "      <td>Franklyn</td>\n",
       "      <td>Unknow</td>\n",
       "      <td>Male</td>\n",
       "      <td>France</td>\n",
       "      <td>38</td>\n",
       "      <td>15/10/2017</td>\n",
       "      <td>2579</td>\n",
       "    </tr>\n",
       "    <tr>\n",
       "      <td>12</td>\n",
       "      <td>13</td>\n",
       "      <td>Sherron</td>\n",
       "      <td>Ascencio</td>\n",
       "      <td>Female</td>\n",
       "      <td>Great Britain</td>\n",
       "      <td>32</td>\n",
       "      <td>16/08/2016</td>\n",
       "      <td>3256</td>\n",
       "    </tr>\n",
       "    <tr>\n",
       "      <td>13</td>\n",
       "      <td>14</td>\n",
       "      <td>Marcel</td>\n",
       "      <td>Zabriskie</td>\n",
       "      <td>Male</td>\n",
       "      <td>Great Britain</td>\n",
       "      <td>26</td>\n",
       "      <td>21/05/2015</td>\n",
       "      <td>2587</td>\n",
       "    </tr>\n",
       "    <tr>\n",
       "      <td>14</td>\n",
       "      <td>15</td>\n",
       "      <td>Kina</td>\n",
       "      <td>Hazelton</td>\n",
       "      <td>Female</td>\n",
       "      <td>Great Britain</td>\n",
       "      <td>31</td>\n",
       "      <td>16/08/2016</td>\n",
       "      <td>3259</td>\n",
       "    </tr>\n",
       "    <tr>\n",
       "      <td>15</td>\n",
       "      <td>16</td>\n",
       "      <td>Shavonne</td>\n",
       "      <td>Pia</td>\n",
       "      <td>Female</td>\n",
       "      <td>France</td>\n",
       "      <td>24</td>\n",
       "      <td>21/05/2015</td>\n",
       "      <td>1546</td>\n",
       "    </tr>\n",
       "    <tr>\n",
       "      <td>16</td>\n",
       "      <td>17</td>\n",
       "      <td>Shavon</td>\n",
       "      <td>Benito</td>\n",
       "      <td>Female</td>\n",
       "      <td>France</td>\n",
       "      <td>39</td>\n",
       "      <td>15/10/2017</td>\n",
       "      <td>3579</td>\n",
       "    </tr>\n",
       "    <tr>\n",
       "      <td>17</td>\n",
       "      <td>18</td>\n",
       "      <td>Lauralee</td>\n",
       "      <td>Perrine</td>\n",
       "      <td>Female</td>\n",
       "      <td>Great Britain</td>\n",
       "      <td>28</td>\n",
       "      <td>16/08/2016</td>\n",
       "      <td>6597</td>\n",
       "    </tr>\n",
       "    <tr>\n",
       "      <td>18</td>\n",
       "      <td>19</td>\n",
       "      <td>Loreta</td>\n",
       "      <td>Curren</td>\n",
       "      <td>Female</td>\n",
       "      <td>France</td>\n",
       "      <td>26</td>\n",
       "      <td>21/05/2015</td>\n",
       "      <td>9654</td>\n",
       "    </tr>\n",
       "    <tr>\n",
       "      <td>19</td>\n",
       "      <td>20</td>\n",
       "      <td>Teresa</td>\n",
       "      <td>Strawn</td>\n",
       "      <td>Female</td>\n",
       "      <td>France</td>\n",
       "      <td>46</td>\n",
       "      <td>21/05/2015</td>\n",
       "      <td>3569</td>\n",
       "    </tr>\n",
       "    <tr>\n",
       "      <td>20</td>\n",
       "      <td>21</td>\n",
       "      <td>Belinda</td>\n",
       "      <td>Partain</td>\n",
       "      <td>Female</td>\n",
       "      <td>United States</td>\n",
       "      <td>37</td>\n",
       "      <td>15/10/2017</td>\n",
       "      <td>2564</td>\n",
       "    </tr>\n",
       "    <tr>\n",
       "      <td>21</td>\n",
       "      <td>22</td>\n",
       "      <td>Holly</td>\n",
       "      <td>Eudy</td>\n",
       "      <td>Female</td>\n",
       "      <td>United States</td>\n",
       "      <td>52</td>\n",
       "      <td>16/08/2016</td>\n",
       "      <td>8561</td>\n",
       "    </tr>\n",
       "    <tr>\n",
       "      <td>22</td>\n",
       "      <td>23</td>\n",
       "      <td>Many</td>\n",
       "      <td>Cuccia</td>\n",
       "      <td>Female</td>\n",
       "      <td>Great Britain</td>\n",
       "      <td>46</td>\n",
       "      <td>21/05/2015</td>\n",
       "      <td>5489</td>\n",
       "    </tr>\n",
       "    <tr>\n",
       "      <td>23</td>\n",
       "      <td>24</td>\n",
       "      <td>Libbie</td>\n",
       "      <td>Dalby</td>\n",
       "      <td>Female</td>\n",
       "      <td>France</td>\n",
       "      <td>42</td>\n",
       "      <td>21/05/2015</td>\n",
       "      <td>5489</td>\n",
       "    </tr>\n",
       "    <tr>\n",
       "      <td>24</td>\n",
       "      <td>25</td>\n",
       "      <td>Lester</td>\n",
       "      <td>Prothro</td>\n",
       "      <td>Male</td>\n",
       "      <td>France</td>\n",
       "      <td>21</td>\n",
       "      <td>15/10/2017</td>\n",
       "      <td>6574</td>\n",
       "    </tr>\n",
       "    <tr>\n",
       "      <td>25</td>\n",
       "      <td>26</td>\n",
       "      <td>Marvel</td>\n",
       "      <td>Hail</td>\n",
       "      <td>Female</td>\n",
       "      <td>Great Britain</td>\n",
       "      <td>28</td>\n",
       "      <td>16/08/2016</td>\n",
       "      <td>5555</td>\n",
       "    </tr>\n",
       "    <tr>\n",
       "      <td>26</td>\n",
       "      <td>27</td>\n",
       "      <td>Angelyn</td>\n",
       "      <td>Vong</td>\n",
       "      <td>Female</td>\n",
       "      <td>United States</td>\n",
       "      <td>29</td>\n",
       "      <td>21/05/2015</td>\n",
       "      <td>6125</td>\n",
       "    </tr>\n",
       "    <tr>\n",
       "      <td>27</td>\n",
       "      <td>28</td>\n",
       "      <td>Francesca</td>\n",
       "      <td>Beaudreau</td>\n",
       "      <td>Female</td>\n",
       "      <td>France</td>\n",
       "      <td>23</td>\n",
       "      <td>15/10/2017</td>\n",
       "      <td>5412</td>\n",
       "    </tr>\n",
       "    <tr>\n",
       "      <td>28</td>\n",
       "      <td>29</td>\n",
       "      <td>Garth</td>\n",
       "      <td>Gangi</td>\n",
       "      <td>Male</td>\n",
       "      <td>United States</td>\n",
       "      <td>41</td>\n",
       "      <td>16/08/2016</td>\n",
       "      <td>3256</td>\n",
       "    </tr>\n",
       "    <tr>\n",
       "      <td>29</td>\n",
       "      <td>30</td>\n",
       "      <td>Carla</td>\n",
       "      <td>Trumbull</td>\n",
       "      <td>Female</td>\n",
       "      <td>Great Britain</td>\n",
       "      <td>28</td>\n",
       "      <td>21/05/2015</td>\n",
       "      <td>3264</td>\n",
       "    </tr>\n",
       "    <tr>\n",
       "      <td>30</td>\n",
       "      <td>31</td>\n",
       "      <td>Veta</td>\n",
       "      <td>Muntz</td>\n",
       "      <td>Female</td>\n",
       "      <td>Great Britain</td>\n",
       "      <td>37</td>\n",
       "      <td>15/10/2017</td>\n",
       "      <td>4569</td>\n",
       "    </tr>\n",
       "    <tr>\n",
       "      <td>31</td>\n",
       "      <td>32</td>\n",
       "      <td>Stasia</td>\n",
       "      <td>Becker</td>\n",
       "      <td>Female</td>\n",
       "      <td>Great Britain</td>\n",
       "      <td>34</td>\n",
       "      <td>16/08/2016</td>\n",
       "      <td>7521</td>\n",
       "    </tr>\n",
       "    <tr>\n",
       "      <td>32</td>\n",
       "      <td>33</td>\n",
       "      <td>Jona</td>\n",
       "      <td>Grindle</td>\n",
       "      <td>Female</td>\n",
       "      <td>Great Britain</td>\n",
       "      <td>26</td>\n",
       "      <td>21/05/2015</td>\n",
       "      <td>6458</td>\n",
       "    </tr>\n",
       "    <tr>\n",
       "      <td>33</td>\n",
       "      <td>34</td>\n",
       "      <td>Judie</td>\n",
       "      <td>Claywell</td>\n",
       "      <td>Female</td>\n",
       "      <td>France</td>\n",
       "      <td>35</td>\n",
       "      <td>16/08/2016</td>\n",
       "      <td>7569</td>\n",
       "    </tr>\n",
       "    <tr>\n",
       "      <td>34</td>\n",
       "      <td>35</td>\n",
       "      <td>Dewitt</td>\n",
       "      <td>Borger</td>\n",
       "      <td>Male</td>\n",
       "      <td>United States</td>\n",
       "      <td>36</td>\n",
       "      <td>21/05/2015</td>\n",
       "      <td>8514</td>\n",
       "    </tr>\n",
       "    <tr>\n",
       "      <td>35</td>\n",
       "      <td>36</td>\n",
       "      <td>Nena</td>\n",
       "      <td>Hacker</td>\n",
       "      <td>Female</td>\n",
       "      <td>United States</td>\n",
       "      <td>29</td>\n",
       "      <td>15/10/2017</td>\n",
       "      <td>8563</td>\n",
       "    </tr>\n",
       "    <tr>\n",
       "      <td>36</td>\n",
       "      <td>37</td>\n",
       "      <td>Kelsie</td>\n",
       "      <td>Wachtel</td>\n",
       "      <td>Female</td>\n",
       "      <td>France</td>\n",
       "      <td>27</td>\n",
       "      <td>16/08/2016</td>\n",
       "      <td>8642</td>\n",
       "    </tr>\n",
       "    <tr>\n",
       "      <td>37</td>\n",
       "      <td>38</td>\n",
       "      <td>Sau</td>\n",
       "      <td>Pfau</td>\n",
       "      <td>Female</td>\n",
       "      <td>United States</td>\n",
       "      <td>25</td>\n",
       "      <td>21/05/2015</td>\n",
       "      <td>9536</td>\n",
       "    </tr>\n",
       "    <tr>\n",
       "      <td>38</td>\n",
       "      <td>39</td>\n",
       "      <td>Shanice</td>\n",
       "      <td>Mccrystal</td>\n",
       "      <td>Female</td>\n",
       "      <td>United States</td>\n",
       "      <td>36</td>\n",
       "      <td>21/05/2015</td>\n",
       "      <td>2567</td>\n",
       "    </tr>\n",
       "    <tr>\n",
       "      <td>39</td>\n",
       "      <td>40</td>\n",
       "      <td>Chase</td>\n",
       "      <td>Karner</td>\n",
       "      <td>Male</td>\n",
       "      <td>United States</td>\n",
       "      <td>37</td>\n",
       "      <td>15/10/2017</td>\n",
       "      <td>2154</td>\n",
       "    </tr>\n",
       "    <tr>\n",
       "      <td>40</td>\n",
       "      <td>41</td>\n",
       "      <td>Tommie</td>\n",
       "      <td>Underdahl</td>\n",
       "      <td>Male</td>\n",
       "      <td>United States</td>\n",
       "      <td>26</td>\n",
       "      <td>16/08/2016</td>\n",
       "      <td>3265</td>\n",
       "    </tr>\n",
       "    <tr>\n",
       "      <td>41</td>\n",
       "      <td>42</td>\n",
       "      <td>Dorcas</td>\n",
       "      <td>Darity</td>\n",
       "      <td>Female</td>\n",
       "      <td>United States</td>\n",
       "      <td>37</td>\n",
       "      <td>21/05/2015</td>\n",
       "      <td>8765</td>\n",
       "    </tr>\n",
       "    <tr>\n",
       "      <td>42</td>\n",
       "      <td>43</td>\n",
       "      <td>Angel</td>\n",
       "      <td>Sanor</td>\n",
       "      <td>Male</td>\n",
       "      <td>France</td>\n",
       "      <td>24</td>\n",
       "      <td>15/10/2017</td>\n",
       "      <td>3259</td>\n",
       "    </tr>\n",
       "    <tr>\n",
       "      <td>43</td>\n",
       "      <td>44</td>\n",
       "      <td>Willodean</td>\n",
       "      <td>Harn</td>\n",
       "      <td>Female</td>\n",
       "      <td>United States</td>\n",
       "      <td>39</td>\n",
       "      <td>16/08/2016</td>\n",
       "      <td>3567</td>\n",
       "    </tr>\n",
       "    <tr>\n",
       "      <td>44</td>\n",
       "      <td>45</td>\n",
       "      <td>Weston</td>\n",
       "      <td>Martina</td>\n",
       "      <td>Male</td>\n",
       "      <td>United States</td>\n",
       "      <td>26</td>\n",
       "      <td>21/05/2015</td>\n",
       "      <td>6540</td>\n",
       "    </tr>\n",
       "    <tr>\n",
       "      <td>45</td>\n",
       "      <td>46</td>\n",
       "      <td>Roma</td>\n",
       "      <td>Lafollette</td>\n",
       "      <td>Female</td>\n",
       "      <td>United States</td>\n",
       "      <td>34</td>\n",
       "      <td>15/10/2017</td>\n",
       "      <td>2654</td>\n",
       "    </tr>\n",
       "    <tr>\n",
       "      <td>46</td>\n",
       "      <td>47</td>\n",
       "      <td>Felisa</td>\n",
       "      <td>Cail</td>\n",
       "      <td>Female</td>\n",
       "      <td>United States</td>\n",
       "      <td>28</td>\n",
       "      <td>16/08/2016</td>\n",
       "      <td>6525</td>\n",
       "    </tr>\n",
       "    <tr>\n",
       "      <td>47</td>\n",
       "      <td>48</td>\n",
       "      <td>Demetria</td>\n",
       "      <td>Abbey</td>\n",
       "      <td>Female</td>\n",
       "      <td>United States</td>\n",
       "      <td>32</td>\n",
       "      <td>21/05/2015</td>\n",
       "      <td>3265</td>\n",
       "    </tr>\n",
       "    <tr>\n",
       "      <td>48</td>\n",
       "      <td>49</td>\n",
       "      <td>Jeromy</td>\n",
       "      <td>Danz</td>\n",
       "      <td>Male</td>\n",
       "      <td>United States</td>\n",
       "      <td>39</td>\n",
       "      <td>15/10/2017</td>\n",
       "      <td>3265</td>\n",
       "    </tr>\n",
       "    <tr>\n",
       "      <td>49</td>\n",
       "      <td>50</td>\n",
       "      <td>Rasheeda</td>\n",
       "      <td>Alkire</td>\n",
       "      <td>Female</td>\n",
       "      <td>United States</td>\n",
       "      <td>29</td>\n",
       "      <td>16/08/2016</td>\n",
       "      <td>6125</td>\n",
       "    </tr>\n",
       "  </tbody>\n",
       "</table>\n",
       "</div>"
      ],
      "text/plain": [
       "     0 First Name   Last Name  Gender        Country  Age        Date    Id\n",
       "0    1      Dulce       Abril  Female  United States   32  15/10/2017  1562\n",
       "1    2       Mara   Hashimoto  Female  Great Britain   25  16/08/2016  1582\n",
       "2    3     Philip        Gent    Male         France   36  21/05/2015  2587\n",
       "3    4   Kathleen      Hanner  Female  United States   25  15/10/2017  3549\n",
       "4    5    Nereida     Magwood  Female  United States   58  16/08/2016  2468\n",
       "5    6     Gaston       Brumm    Male  United States   24  21/05/2015  2554\n",
       "6    7       Etta        Hurn  Female  Great Britain   56  15/10/2017  3598\n",
       "7    8    Earlean      Melgar  Female  United States   27  16/08/2016  2456\n",
       "8    9   Vincenza     Weiland  Female  United States   40  21/05/2015  6548\n",
       "9   10     Fallon     Winward  Female  Great Britain   28  16/08/2016  5486\n",
       "10  11    Arcelia      Bouska  Female  Great Britain   39  21/05/2015  1258\n",
       "11  12   Franklyn      Unknow    Male         France   38  15/10/2017  2579\n",
       "12  13    Sherron    Ascencio  Female  Great Britain   32  16/08/2016  3256\n",
       "13  14     Marcel   Zabriskie    Male  Great Britain   26  21/05/2015  2587\n",
       "14  15       Kina    Hazelton  Female  Great Britain   31  16/08/2016  3259\n",
       "15  16   Shavonne         Pia  Female         France   24  21/05/2015  1546\n",
       "16  17     Shavon      Benito  Female         France   39  15/10/2017  3579\n",
       "17  18   Lauralee     Perrine  Female  Great Britain   28  16/08/2016  6597\n",
       "18  19     Loreta      Curren  Female         France   26  21/05/2015  9654\n",
       "19  20     Teresa      Strawn  Female         France   46  21/05/2015  3569\n",
       "20  21    Belinda     Partain  Female  United States   37  15/10/2017  2564\n",
       "21  22      Holly        Eudy  Female  United States   52  16/08/2016  8561\n",
       "22  23       Many      Cuccia  Female  Great Britain   46  21/05/2015  5489\n",
       "23  24     Libbie       Dalby  Female         France   42  21/05/2015  5489\n",
       "24  25     Lester     Prothro    Male         France   21  15/10/2017  6574\n",
       "25  26     Marvel        Hail  Female  Great Britain   28  16/08/2016  5555\n",
       "26  27    Angelyn        Vong  Female  United States   29  21/05/2015  6125\n",
       "27  28  Francesca   Beaudreau  Female         France   23  15/10/2017  5412\n",
       "28  29      Garth       Gangi    Male  United States   41  16/08/2016  3256\n",
       "29  30      Carla    Trumbull  Female  Great Britain   28  21/05/2015  3264\n",
       "30  31       Veta       Muntz  Female  Great Britain   37  15/10/2017  4569\n",
       "31  32     Stasia      Becker  Female  Great Britain   34  16/08/2016  7521\n",
       "32  33       Jona     Grindle  Female  Great Britain   26  21/05/2015  6458\n",
       "33  34      Judie    Claywell  Female         France   35  16/08/2016  7569\n",
       "34  35     Dewitt      Borger    Male  United States   36  21/05/2015  8514\n",
       "35  36       Nena      Hacker  Female  United States   29  15/10/2017  8563\n",
       "36  37     Kelsie     Wachtel  Female         France   27  16/08/2016  8642\n",
       "37  38        Sau        Pfau  Female  United States   25  21/05/2015  9536\n",
       "38  39    Shanice   Mccrystal  Female  United States   36  21/05/2015  2567\n",
       "39  40      Chase      Karner    Male  United States   37  15/10/2017  2154\n",
       "40  41     Tommie   Underdahl    Male  United States   26  16/08/2016  3265\n",
       "41  42     Dorcas      Darity  Female  United States   37  21/05/2015  8765\n",
       "42  43      Angel       Sanor    Male         France   24  15/10/2017  3259\n",
       "43  44  Willodean        Harn  Female  United States   39  16/08/2016  3567\n",
       "44  45     Weston     Martina    Male  United States   26  21/05/2015  6540\n",
       "45  46       Roma  Lafollette  Female  United States   34  15/10/2017  2654\n",
       "46  47     Felisa        Cail  Female  United States   28  16/08/2016  6525\n",
       "47  48   Demetria       Abbey  Female  United States   32  21/05/2015  3265\n",
       "48  49     Jeromy        Danz    Male  United States   39  15/10/2017  3265\n",
       "49  50   Rasheeda      Alkire  Female  United States   29  16/08/2016  6125"
      ]
     },
     "execution_count": 5,
     "metadata": {},
     "output_type": "execute_result"
    }
   ],
   "source": [
    "# Read xls: \n",
    "df_excel = pd.read_excel('ex_excel.xls')\n",
    "df_excel"
   ]
  },
  {
   "cell_type": "code",
   "execution_count": 31,
   "metadata": {},
   "outputs": [],
   "source": [
    "# Write to txt:\n",
    "df.to_csv('back_to_txt.txt', index=None, sep=',')"
   ]
  },
  {
   "cell_type": "code",
   "execution_count": 32,
   "metadata": {},
   "outputs": [],
   "source": [
    "# Write to csv:\n",
    "data.to_csv('back_to_csv.csv', index=None, sep=',')"
   ]
  },
  {
   "cell_type": "code",
   "execution_count": 7,
   "metadata": {},
   "outputs": [
    {
     "data": {
      "text/plain": [
       "'/Users/Dmitry/Jupyter_Projects/.venv/bin/python3'"
      ]
     },
     "execution_count": 7,
     "metadata": {},
     "output_type": "execute_result"
    }
   ],
   "source": [
    "import sys\n",
    "sys.executable"
   ]
  },
  {
   "cell_type": "code",
   "execution_count": 9,
   "metadata": {},
   "outputs": [],
   "source": [
    "# Write to excel:\n",
    "# pip install openpyxl\n",
    "df_excel.to_excel('back_to_excel.xlsx', sheet_name='sheet1', index=False)"
   ]
  },
  {
   "cell_type": "markdown",
   "metadata": {},
   "source": [
    "## Modules and packages:\n",
    "how to import package? How to import function from your custom *.py file?"
   ]
  },
  {
   "cell_type": "code",
   "execution_count": null,
   "metadata": {},
   "outputs": [],
   "source": []
  },
  {
   "cell_type": "markdown",
   "metadata": {},
   "source": [
    "## What is pip? How to install packages"
   ]
  },
  {
   "cell_type": "code",
   "execution_count": null,
   "metadata": {},
   "outputs": [],
   "source": []
  },
  {
   "cell_type": "markdown",
   "metadata": {},
   "source": [
    "## virtualenv"
   ]
  },
  {
   "cell_type": "code",
   "execution_count": null,
   "metadata": {},
   "outputs": [],
   "source": []
  },
  {
   "cell_type": "markdown",
   "metadata": {},
   "source": [
    "## Classes"
   ]
  },
  {
   "cell_type": "markdown",
   "metadata": {},
   "source": [
    "## Something about generators/iterators  \n",
    "motivation for using them"
   ]
  },
  {
   "cell_type": "code",
   "execution_count": null,
   "metadata": {},
   "outputs": [],
   "source": []
  }
 ],
 "metadata": {
  "kernelspec": {
   "display_name": ".venv",
   "language": "python",
   "name": ".venv"
  },
  "language_info": {
   "codemirror_mode": {
    "name": "ipython",
    "version": 3
   },
   "file_extension": ".py",
   "mimetype": "text/x-python",
   "name": "python",
   "nbconvert_exporter": "python",
   "pygments_lexer": "ipython3",
   "version": "3.7.4"
  }
 },
 "nbformat": 4,
 "nbformat_minor": 2
}
